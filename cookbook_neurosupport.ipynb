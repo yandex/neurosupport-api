{
 "cells": [
  {
   "cell_type": "markdown",
   "id": "7dbebfd4",
   "metadata": {},
   "source": [
    "# Содержание\n",
    "- [Настройка консольной утилиты yc и библиотеки yandex_neurosupport](#yc-setting)\n",
    "- [Готовим документацию и создаем индекс](#cook-index)\n",
    "- [Получаем ответы по документации](#take-my-money)\n",
    "- [Смотрим документы в индексе](#look-for-docs)\n",
    "- [Добавляем новый документ в индекс](#add-doc)\n",
    "- [Переключаемся между версиями индексов](#switch-index)\n",
    "- [Удаляем документ из индекса](#delete-doc)\n",
    "- [Удаляем весь индекс](#delete-all)"
   ]
  },
  {
   "cell_type": "markdown",
   "id": "610f81b6",
   "metadata": {},
   "source": [
    "<a id=\"yc-setting\"></a>\n",
    "## Настройка консольной утилиты yc\n",
    "Все команды выполняются в терминале"
   ]
  },
  {
   "cell_type": "code",
   "execution_count": 1,
   "id": "68157df1",
   "metadata": {},
   "outputs": [],
   "source": [
    "# curl -sSL https://storage.yandexcloud.net/yandexcloud-yc/install.sh | bash #скачиваем\n",
    "# yc init\n",
    "# yc config list #test\n",
    "# yc iam key create --output yndx_cloud_key.json --service-account-name user-1 # задайте свои имена 'yndx_cloud_key.json', 'user-1'\n",
    "# yc config profile create service_account_profile\n",
    "# yc config set service-account-key yndx_cloud_key.json     # задайте свое имя 'yndx_cloud_key.json'\n",
    "# yc iam create-token\n",
    "\n",
    "# формируем тестовый запрос\n",
    "# IAM_TOKEN=$(yc iam create-token)\n",
    "# FOLDER_ID=\"${1:-<your_folder_id>}\"\n",
    "# curl -H \"Authorization: Bearer ${IAM_TOKEN}\" -H \"x-folder-id: ${FOLDER_ID}\" -X GET https://supportgpt.api.cloud.yandex.net/indexer/v1/indexes"
   ]
  },
  {
   "cell_type": "markdown",
   "id": "f000bdfa",
   "metadata": {},
   "source": [
    "Устанавливаем библиотеку"
   ]
  },
  {
   "cell_type": "code",
   "execution_count": 2,
   "id": "44602939",
   "metadata": {},
   "outputs": [],
   "source": [
    "# !pip install yandex_neurosupport    # устанавливаем билиотеку\n",
    "# !pip show yandex_neurosupport       # проверяем установку"
   ]
  },
  {
   "cell_type": "code",
   "execution_count": 3,
   "id": "312f70c1",
   "metadata": {},
   "outputs": [],
   "source": [
    "import yandex_neurosupport as nrsprt"
   ]
  },
  {
   "cell_type": "code",
   "execution_count": 4,
   "id": "fcb321c1",
   "metadata": {},
   "outputs": [
    {
     "data": {
      "text/plain": [
       "True"
      ]
     },
     "execution_count": 4,
     "metadata": {},
     "output_type": "execute_result"
    }
   ],
   "source": [
    "# импорт других библиотек, которые нам понадобятся\n",
    "import os\n",
    "import requests\n",
    "import markdownify              # при необходимости устанавливаем через pip install markdownify, чтобы конвертировать html->markdown\n",
    "from dotenv import load_dotenv  # при необходимости устанавливаем через pip install python-dotenv, чтобы использовать переменные из .env\n",
    "load_dotenv()"
   ]
  },
  {
   "cell_type": "markdown",
   "id": "c6bad730",
   "metadata": {},
   "source": [
    "Создаем клиента"
   ]
  },
  {
   "cell_type": "code",
   "execution_count": 5,
   "id": "a0d6b77c",
   "metadata": {},
   "outputs": [],
   "source": [
    "client = nrsprt.YandexCloudNeuroSupportClient(\n",
    "    auth_token=nrsprt.get_iam_token(),  # Или используйте свой способ\n",
    "    folder_id=os.getenv('FOLDER_ID'),   # Или укажите вручную: 'your_folder_id'\n",
    "    service=os.getenv('SERVICE'),       # Или укажите вручную: 'your_service'\n",
    "    product=os.getenv('PRODUCT')        # Или укажите вручную: 'your_product'\n",
    ")"
   ]
  },
  {
   "cell_type": "markdown",
   "id": "2cf3aea1",
   "metadata": {},
   "source": [
    "Проверяем доступность api"
   ]
  },
  {
   "cell_type": "code",
   "execution_count": 6,
   "id": "341db656",
   "metadata": {},
   "outputs": [
    {
     "data": {
      "text/plain": [
       "True"
      ]
     },
     "execution_count": 6,
     "metadata": {},
     "output_type": "execute_result"
    }
   ],
   "source": [
    "client.check_api()"
   ]
  },
  {
   "cell_type": "markdown",
   "id": "d84bcf99",
   "metadata": {},
   "source": [
    "<a id=\"cook-index\"></a>\n",
    "## Готовим документацию и создаем индекс"
   ]
  },
  {
   "cell_type": "markdown",
   "id": "91e68d60",
   "metadata": {},
   "source": [
    "Скачиваем документацию Нейросаппорта (https://yandex.cloud/ru/docs/neurosupport/quick-start)."
   ]
  },
  {
   "cell_type": "code",
   "execution_count": 7,
   "id": "08164f43",
   "metadata": {},
   "outputs": [
    {
     "name": "stdout",
     "output_type": "stream",
     "text": [
      "# Нейросаппорт\n",
      "\n",
      "Статья создана\n",
      "\n",
      "[![](https://storage.yandexcloud.net/cloud-www-assets/constructor/content-program/icons/yandexcloud.svg)](/ru)\n",
      "\n",
      "[Yandex Cloud](/ru)\n",
      "\n",
      "Обновлена 2 августа 2025 г.\n",
      "\n",
      "* [О сервисе](#about)\n",
      "* [Получение доступа](#get-access)\n",
      "* [Интеграция](#integration)\n",
      "  + [Архитектура инт\n"
     ]
    }
   ],
   "source": [
    "def get_html_content(url: str) -> str | None:\n",
    "    \"\"\"\n",
    "    Получает HTML содержимое веб-страницы по указанному URL.\n",
    "\n",
    "    Args:\n",
    "        url: URL веб-страницы для загрузки\n",
    "\n",
    "    Returns:\n",
    "        HTML содержимое страницы в виде строки или None в случае ошибки\n",
    "    \"\"\"\n",
    "    try:\n",
    "        response: requests.Response = requests.get(url)\n",
    "        response.raise_for_status()\n",
    "        return response.text\n",
    "    except requests.exceptions.RequestException as e:\n",
    "        print(f\"Ошибка при загрузке страницы: {e}\")\n",
    "        return None\n",
    "\n",
    "# cкачиваем документацию по нейросаппорту\n",
    "url = \"https://yandex.cloud/ru/docs/neurosupport/quick-start\"\n",
    "html_content = get_html_content(url)\n",
    "markdown_page = markdownify.markdownify(html_content, heading_style=\"ATX\")\n",
    "markdown_page_clean = '# Нейросаппорт'+markdown_page.split('# Нейросаппорт')[1] #удаляем неинформативную шапку\n",
    "print(markdown_page_clean[:300])"
   ]
  },
  {
   "cell_type": "code",
   "execution_count": 8,
   "id": "b1090fbf",
   "metadata": {},
   "outputs": [],
   "source": [
    "# Создаем документ согласно инструкции к API\n",
    "documents = [\n",
    "    {\n",
    "        \"doc_id\": \"doc_1\",\n",
    "        \"title\": \"Инструкция Нейросаппорта\",\n",
    "        \"text\": markdown_page_clean,\n",
    "        \"meta\": {\n",
    "                \"title\": \"Дока нейросаппорта\",\n",
    "                \"source_id\": \"https://yandex.cloud/ru/docs/neurosupport/quick-start\",\n",
    "                \"category\": \"quick-start\"\n",
    "            }\n",
    "        }\n",
    "]"
   ]
  },
  {
   "cell_type": "markdown",
   "id": "3a44d703",
   "metadata": {},
   "source": [
    "Создаем индекс c именем `INDEX_NAME`."
   ]
  },
  {
   "cell_type": "code",
   "execution_count": 9,
   "id": "e8ca5d2d",
   "metadata": {},
   "outputs": [],
   "source": [
    "PREFIX_INDEX = os.getenv('PREFIX_INDEX') # PREFIX_INDEX - выдается после обработки заявки на подключение\n",
    "INDEX_NAME = PREFIX_INDEX+'neurosupport_index'"
   ]
  },
  {
   "cell_type": "code",
   "execution_count": 10,
   "id": "a5ff1d46",
   "metadata": {},
   "outputs": [
    {
     "data": {
      "text/plain": [
       "{'index_name': '******neurosupport_index',\n",
       " 'index_version': '1',\n",
       " 'index_parent_version': None}"
      ]
     },
     "execution_count": 10,
     "metadata": {},
     "output_type": "execute_result"
    }
   ],
   "source": [
    "# Создаем индекс\n",
    "res = client.create_or_update_index(\n",
    "    index_name=INDEX_NAME ,\n",
    "    documents=documents,\n",
    "    meta={\"description\": \"Инструкция Нейросаппорта\"},\n",
    "    auto_switch=True,\n",
    "    diff=False\n",
    ")\n",
    "\n",
    "nrsprt.mask_response_fields(res['body'], values_to_mask=[PREFIX_INDEX])"
   ]
  },
  {
   "cell_type": "code",
   "execution_count": 11,
   "id": "bc53c323",
   "metadata": {},
   "outputs": [
    {
     "data": {
      "text/plain": [
       "'85f3efad-a919-4bf6-9aba-933ba89c5066'"
      ]
     },
     "execution_count": 11,
     "metadata": {},
     "output_type": "execute_result"
    }
   ],
   "source": [
    "# Как получить request-id данного запроса (особенно актуально при обращении в поддержку)\n",
    "res['headers']['x-request-id']"
   ]
  },
  {
   "cell_type": "markdown",
   "id": "7fd2f4c4",
   "metadata": {},
   "source": [
    "<a id=\"take-my-money\"></a>\n",
    "## Получаем ответы по документации"
   ]
  },
  {
   "cell_type": "code",
   "execution_count": 12,
   "id": "46363a25",
   "metadata": {},
   "outputs": [
    {
     "name": "stdout",
     "output_type": "stream",
     "text": [
      "Система оценок ответов выглядит так:\n",
      "\n",
      "**5 — Идеально.** Ответили на все вопросы и дали отличный безошибочный ответ пользователю. \n",
      "\n",
      "**4 — Хорошо.** Написанный текст решает вопрос пользователя и по алгоритму является верным, но есть небольшие ошибки в формулировках и/или небольшие расхождения с редакционной политикой. \n",
      "\n",
      "**3 — Средне.** В целом написанный текст отвечает на обращение, соответствует базе знаний и приближает к решению задачи, но требует правок (фразы и предложения): не дописали какую-то значимую информацию, ответили не на все вопросы пользователя, если их было несколько. \n",
      "\n",
      "**2 — Плохо.** Ответ абсолютно бесполезен и его нельзя было использовать в диалоге. Нужно писать правильный ответ с нуля. Совершенно не соответствует базе знаний. Не соответствует действительности и входным данным (например, решили проблему не по тому обращению или ответили не на тот вопрос). Дезинформирует пользователя. \n",
      "\n",
      "**1 — Критично.** Очень плохой ответ. Может вызвать риски, если пользователь получит такой текст. Критерии: проникла конфиденциальная информация, использована неприемлемая лексика, неразборчивый или непонятный текст. \n"
     ]
    }
   ],
   "source": [
    "# Пример диалога\n",
    "sample_dialog = [\n",
    "    {\n",
    "        \"role\": \"operator\",\n",
    "        \"text\": \"Добрый день, чем я могу помочь?\"\n",
    "    },\n",
    "    {\n",
    "        \"role\": \"client\",\n",
    "        \"text\": \"Какая система оценок ответов, простыми словами\"\n",
    "    }\n",
    "]\n",
    "\n",
    "# Получаем ответ\n",
    "answers = client.get_generative_answer(index_name=INDEX_NAME, dialog=sample_dialog)\n",
    "print(answers['body']['answers'][0]['answer'])"
   ]
  },
  {
   "cell_type": "markdown",
   "id": "1737d5f5",
   "metadata": {},
   "source": [
    "<a id=\"look-for-docs\"></a>\n",
    "## Смотрим документы в индексе"
   ]
  },
  {
   "cell_type": "markdown",
   "id": "3dc95e95",
   "metadata": {},
   "source": [
    "Внимание! Если загружаемы документ был большого размера, то он перед индексирование разбивается на более мелкие куски(чанки) и к id документа добавляетя суффикс `_{номер чанка}`"
   ]
  },
  {
   "cell_type": "code",
   "execution_count": 13,
   "id": "a08ed1ec",
   "metadata": {},
   "outputs": [
    {
     "data": {
      "text/plain": [
       "{'body': {'parameters': {'items_total': 1,\n",
       "   'items_returned': 1,\n",
       "   'last_id': 'doc_1_7',\n",
       "   'after_id': None,\n",
       "   'limit': 100,\n",
       "   'sort_by': 'document_id',\n",
       "   'sort_order': 'asc'},\n",
       "  'items': [{'doc_id': 'doc_1_7',\n",
       "    'title': 'Инструкция Нейросаппорта',\n",
       "    'text': '```\\n\\n### [Рекомендации к тестированию и оценке качества](#qa-recommendations)Рекомендации к тестированию и оценке качества\\n\\nДля тестирования рекомендуется подготовить релевантный набор данных, соответствующий потоку, на котором в дальнейшем планируется использовать сервис. Например, если планируется запускать сервис только для 1-й линии поддержки, то в тестировании должны присутствовать данные только с нее. Либо, если планируется запускать сервис по определенным тематикам, то набор данных должен отражать реальное распределение по тематикам. Это необходимо, чтобы выводы, сделанные на тестовом наборе данных, можно было потом корректно обобщить.\\n\\nРекомендуется выбирать ту часть потока обращений, для которой:\\n\\n* база знаний наиболее полная;\\n* для формирования ответов достаточно метаданных;\\n* для помощи пользователю чаще всего не требуется дополнительных действий оператора (звонки, изменения в смежных системах и\\xa0т.\\xa0п.).\\n\\nДля оценки качества ответов рекомендуется применять сравнение side-by-side, то есть сравнивать ответы Нейросаппорта с ответами оператора, который был дан для аналогичного диалога.\\n\\nРекомендации для проведения такого сравнения:\\n\\n1. Подготовьте диалоги по выбранной части потока (диалог можно случайным образом разрезать так, чтобы последней была реплика клиента, на которую требуется сформировать ответ). Рекомендуется брать не более 300-500 диалогов, потому что дальнейшую разметку результатов потребуется производить вручную. Рядом с диалогом выгрузите доступные метаданные.\\n2. Выгрузите ответ оператора, который был фактически дан на последнюю реплику клиента. Запросите ответ Нейросаппорта для аналогичного диалога.\\n3. Оцените ответ оператора и ответ Нейросаппорта по шкале 1-5 с критериями из таблицы ниже. Рекомендуется выполнять оценку с перекрытием (когда несколько человек оценивают один и тот же диалог и потом эти оценки усредняются, либо диалоги с большим разбросом оценок не учитываются при сравнении), таким образом можно снизить фактор субъективности при оценках. Как минимум, рекомендуется выборочно перепроверить корректность проставленных оценок.\\n\\n   |  |  |  |\\n   | --- | --- | --- |\\n   | **Оценка** | **Расшифровка** | **Критерий** |\\n   | 5 | Идеально | Ответили на все вопросы и дали отличный безошибочный ответ пользователю. |\\n   | 4 | Хорошо | Написанный текст решает вопрос пользователя и по алгоритму является верным, но есть небольшие ошибки в формулировках и/или небольшие расхождения с редакционной политикой. |\\n   | 3 | Средне | В целом, написанный текст отвечает на обращение, соответствует базе знаний и приближает к решению задачи, но требует правок (фразы и предложения):  * Не дописали какую-то значимую информацию. * Ответили не на все вопросы пользователя, если их было несколько. |\\n   | 2 | Плохо | Ответ абсолютно бесполезен и его нельзя было использовать в диалоге. Нужно писать правильный ответ с нуля.  * Совершенно не соответствует базе знаний. * Не соответствует действительности и входным данным (например, решили проблему не по тому обращению или ответили не на тот вопрос). * Дезинформирует пользователя. |\\n   | 1 | Критично | Очень плохой ответ. Может вызвать риски, если пользователь получит такой текст. Критерии:  * Проникла NDA-информация. * Использована неприемлемая лексика. * Неразборчивый или непонятный текст. |\\n4. Отдельно можно оценить диалоги с точки зрения:\\n\\n   1. Полноты предоставленной информации (диалога и метаданных) для формирования правильного ответа.\\n   2. Необходимости выполнять дополнительные действия для обработки обращения, которые может выполнить только человек.\\n5. Корректно будет сравнивать Нейросаппорт и оператора только на тех диалогах, где нет какой-то дополнительной информации, доступной оператору (но недоступной для модели) и где не требуется дополнительных действий (т.\\xa0к. оператор, как правило, отвечает на основании результата данных действий).\\n6. Сравните долю полученных оценок 3, 4, 5 для оператора и для Нейросаппорта — это покажет, какую долю потока возможно автоматизировать с помощью сервиса.\\n\\n### Была ли статья полезна?\\n\\nДаНет\\n\\nРоссия\\n\\n[Проект Яндекса](https://yandex.ru/all)\\n\\n© 2025 ООО «Яндекс.Облако»\\n\\n![](https://mc.yandex.ru/watch/50027884)\\n![](https://mc.yandex.ru/watch/51465824)',\n",
       "    'meta': {'title': 'Инструкция Нейросаппорта',\n",
       "     '_order': [7],\n",
       "     'category': 'quick-start',\n",
       "     'source_id': 'https://yandex.cloud/ru/docs/neurosupport/quick-start',\n",
       "     '_source_doc_id': 'doc_1'}}]},\n",
       " 'headers': {'content-length': '7947',\n",
       "  'content-type': 'application/json',\n",
       "  'date': 'Wed, 06 Aug 2025 13:48:06 GMT',\n",
       "  'x-request-id': '351ece82-dd8e-4dd3-a540-7a236c2de128',\n",
       "  'server': 'ycalb'}}"
      ]
     },
     "execution_count": 13,
     "metadata": {},
     "output_type": "execute_result"
    }
   ],
   "source": [
    "client.get_documents_from_index(index_name=INDEX_NAME, document_id='doc_1_7')"
   ]
  },
  {
   "cell_type": "markdown",
   "id": "aaa6d107",
   "metadata": {},
   "source": [
    "<a id=\"add-doc\"></a>\n",
    "## Добавляем новый документ в индекс"
   ]
  },
  {
   "cell_type": "markdown",
   "id": "4fa3e64c",
   "metadata": {},
   "source": [
    "Зададим вопрос, ответа на который нет в докумментации."
   ]
  },
  {
   "cell_type": "code",
   "execution_count": 14,
   "id": "f9a460ab",
   "metadata": {},
   "outputs": [
    {
     "name": "stdout",
     "output_type": "stream",
     "text": [
      "В предоставленных текстах нет ответа на ваш вопрос. Однако, если у вас возникнут другие вопросы, связанные с использованием Нейросаппорта или вам понадобится дополнительная информация по другим темам, пожалуйста, обращайтесь! Если вопрос касается работы с другими сервисами, рекомендуем обратиться к соответствующей документации или поддержке.\n"
     ]
    }
   ],
   "source": [
    "sample_dialog_2 = [\n",
    "    {\n",
    "        \"role\": \"operator\",\n",
    "        \"text\": \"Добрый день, чем я могу помочь?\"\n",
    "    },\n",
    "    {\n",
    "        \"role\": \"client\",\n",
    "        \"text\": \"Как получить список доступных сервисных аккаунтов в каталоге по умолчанию?\"\n",
    "    }\n",
    "]\n",
    "\n",
    "# Получаем ответ не очень рельвантный запросу, т.к. у нас нет инструкции конкретно про IAM токен\n",
    "answers = client.get_generative_answer(index_name=INDEX_NAME, dialog=sample_dialog_2)\n",
    "print(answers['body']['answers'][0]['answer'])"
   ]
  },
  {
   "cell_type": "markdown",
   "id": "230dae31",
   "metadata": {},
   "source": [
    "Скачаем и добавим подходящий документ (версия индекса увеличивает на +1)"
   ]
  },
  {
   "cell_type": "code",
   "execution_count": 15,
   "id": "1db2adc4",
   "metadata": {},
   "outputs": [],
   "source": [
    "# cкачиваем инструкци по IAM\n",
    "url = \"https://yandex.cloud/ru/docs/iam/operations/iam-token/create-for-sa\"\n",
    "html_content = get_html_content(url)\n",
    "markdown_page = markdownify.markdownify(html_content, heading_style=\"ATX\")\n",
    "\n",
    "new_documents = [\n",
    "    {\n",
    "        \"doc_id\": \"doc_2\",\n",
    "        \"title\": \"Получение IAM-токена для сервисного аккаунта\",\n",
    "        \"text\": markdown_page,\n",
    "        \"meta\": {\n",
    "                \"title\": \"Дока yandex cloud\",\n",
    "                \"source_id\": url,\n",
    "                \"category\": \"instruction\"\n",
    "                }\n",
    "        }\n",
    "    ]"
   ]
  },
  {
   "cell_type": "markdown",
   "id": "87d301b4",
   "metadata": {},
   "source": [
    "Смотрим кол-во документов в индексе до добавления"
   ]
  },
  {
   "cell_type": "code",
   "execution_count": 16,
   "id": "99625712",
   "metadata": {},
   "outputs": [
    {
     "data": {
      "text/plain": [
       "{'index_name': '******neurosupport_index',\n",
       " 'index_version': 1,\n",
       " 'index_parent_version': None,\n",
       " 'doc_count': 8}"
      ]
     },
     "execution_count": 16,
     "metadata": {},
     "output_type": "execute_result"
    }
   ],
   "source": [
    "res = client.get_index_info(index_name=INDEX_NAME)\n",
    "nrsprt.mask_response_fields(res['body'], values_to_mask=[PREFIX_INDEX])"
   ]
  },
  {
   "cell_type": "markdown",
   "id": "7481aa96",
   "metadata": {},
   "source": [
    "Добавляем"
   ]
  },
  {
   "cell_type": "code",
   "execution_count": 17,
   "id": "e8c91243",
   "metadata": {},
   "outputs": [],
   "source": [
    "res = client.create_or_update_index(\n",
    "    index_name=INDEX_NAME,\n",
    "    documents=new_documents,\n",
    "    meta={\"description\": \"Инструкция Нейросаппорта и Облака\"},\n",
    "    auto_switch=True,\n",
    "    diff=True\n",
    ")"
   ]
  },
  {
   "cell_type": "code",
   "execution_count": 18,
   "id": "fd5da0e2",
   "metadata": {},
   "outputs": [
    {
     "data": {
      "text/plain": [
       "{'index_name': '******neurosupport_index',\n",
       " 'index_version': '2',\n",
       " 'index_parent_version': '1'}"
      ]
     },
     "execution_count": 18,
     "metadata": {},
     "output_type": "execute_result"
    }
   ],
   "source": [
    "nrsprt.mask_response_fields(res['body'], values_to_mask=[PREFIX_INDEX])"
   ]
  },
  {
   "cell_type": "markdown",
   "id": "a4fcb58c",
   "metadata": {},
   "source": [
    "Смотрим кол-во документов в новом индексе после добавления"
   ]
  },
  {
   "cell_type": "code",
   "execution_count": 19,
   "id": "89a67423",
   "metadata": {},
   "outputs": [
    {
     "data": {
      "text/plain": [
       "{'index_name': '******neurosupport_index',\n",
       " 'index_version': 2,\n",
       " 'index_parent_version': 1,\n",
       " 'doc_count': 16}"
      ]
     },
     "execution_count": 19,
     "metadata": {},
     "output_type": "execute_result"
    }
   ],
   "source": [
    "res = client.get_index_info(index_name=INDEX_NAME)\n",
    "nrsprt.mask_response_fields(res['body'], values_to_mask=[PREFIX_INDEX])"
   ]
  },
  {
   "cell_type": "markdown",
   "id": "d027e12b",
   "metadata": {},
   "source": [
    "Смотрим как модель отвечает с учетом нового рельвантного документа"
   ]
  },
  {
   "cell_type": "code",
   "execution_count": 20,
   "id": "bcae5d5f",
   "metadata": {},
   "outputs": [
    {
     "name": "stdout",
     "output_type": "stream",
     "text": [
      "Получите список доступных сервисных аккаунтов в каталоге по умолчанию с помощью команды: \n",
      "\n",
      "```\n",
      "yc iam service-accounts list\n",
      "```\n"
     ]
    }
   ],
   "source": [
    "# Получаем ответ отличный ответ, т.к. у нас есть  инструкции конкретно про IAM токен\n",
    "answers = client.get_generative_answer(index_name=INDEX_NAME, dialog=sample_dialog_2)\n",
    "print(answers['body']['answers'][0]['answer'])\n"
   ]
  },
  {
   "cell_type": "markdown",
   "id": "a50ce52d",
   "metadata": {},
   "source": [
    "<a id=\"switch-index\"></a>\n",
    "## Переключаемся между версиями индексов"
   ]
  },
  {
   "cell_type": "markdown",
   "id": "3111997e",
   "metadata": {},
   "source": [
    "Текущая версия"
   ]
  },
  {
   "cell_type": "code",
   "execution_count": 21,
   "id": "80d11cc4",
   "metadata": {},
   "outputs": [
    {
     "data": {
      "text/plain": [
       "{'index_name': '******neurosupport_index',\n",
       " 'index_version': 2,\n",
       " 'index_parent_version': 1,\n",
       " 'doc_count': 16}"
      ]
     },
     "execution_count": 21,
     "metadata": {},
     "output_type": "execute_result"
    }
   ],
   "source": [
    "res = client.get_index_info(index_name=INDEX_NAME)\n",
    "nrsprt.mask_response_fields(res['body'], values_to_mask=[PREFIX_INDEX])"
   ]
  },
  {
   "cell_type": "markdown",
   "id": "b876684b",
   "metadata": {},
   "source": [
    "Переключимся на предыдущую"
   ]
  },
  {
   "cell_type": "code",
   "execution_count": 22,
   "id": "196ce3ee",
   "metadata": {},
   "outputs": [
    {
     "data": {
      "text/plain": [
       "{'index_name': '******neurosupport_index', 'index_version': 1}"
      ]
     },
     "execution_count": 22,
     "metadata": {},
     "output_type": "execute_result"
    }
   ],
   "source": [
    "res = client.switch_index_version(index_name=INDEX_NAME, index_version=1)\n",
    "nrsprt.mask_response_fields(res['body'], values_to_mask=[PREFIX_INDEX])"
   ]
  },
  {
   "cell_type": "markdown",
   "id": "f508b325",
   "metadata": {},
   "source": [
    "Проверяем текущую версию"
   ]
  },
  {
   "cell_type": "code",
   "execution_count": 23,
   "id": "7bbb9019",
   "metadata": {},
   "outputs": [
    {
     "data": {
      "text/plain": [
       "{'index_name': '******neurosupport_index',\n",
       " 'index_version': 1,\n",
       " 'index_parent_version': None,\n",
       " 'doc_count': 8}"
      ]
     },
     "execution_count": 23,
     "metadata": {},
     "output_type": "execute_result"
    }
   ],
   "source": [
    "res = client.get_index_info(index_name=INDEX_NAME)\n",
    "nrsprt.mask_response_fields(res['body'], values_to_mask=[PREFIX_INDEX])"
   ]
  },
  {
   "cell_type": "code",
   "execution_count": 24,
   "id": "67ab2494",
   "metadata": {},
   "outputs": [
    {
     "data": {
      "text/plain": [
       "{'index_name': '******neurosupport_index',\n",
       " 'index_version': 2,\n",
       " 'index_parent_version': 1,\n",
       " 'doc_count': 16}"
      ]
     },
     "execution_count": 24,
     "metadata": {},
     "output_type": "execute_result"
    }
   ],
   "source": [
    "# версия с которой переключились\n",
    "res = client.get_index_info(index_name=INDEX_NAME, index_version=2)\n",
    "nrsprt.mask_response_fields(res['body'], values_to_mask=[PREFIX_INDEX])"
   ]
  },
  {
   "cell_type": "markdown",
   "id": "4293ec63",
   "metadata": {},
   "source": [
    "Вернемся обратно"
   ]
  },
  {
   "cell_type": "code",
   "execution_count": 25,
   "id": "f485ae27",
   "metadata": {},
   "outputs": [
    {
     "data": {
      "text/plain": [
       "{'index_name': '******neurosupport_index', 'index_version': 2}"
      ]
     },
     "execution_count": 25,
     "metadata": {},
     "output_type": "execute_result"
    }
   ],
   "source": [
    "res = client.switch_index_version(index_name=INDEX_NAME, index_version=2)\n",
    "nrsprt.mask_response_fields(res['body'], values_to_mask=[PREFIX_INDEX])"
   ]
  },
  {
   "cell_type": "markdown",
   "id": "bc3ec6b4",
   "metadata": {},
   "source": [
    "<a id=\"delete-doc\"></a>\n",
    "## Удаление документов из индекса."
   ]
  },
  {
   "cell_type": "code",
   "execution_count": 26,
   "id": "8912cced",
   "metadata": {},
   "outputs": [
    {
     "data": {
      "text/plain": [
       "{'index_name': '******neurosupport_index',\n",
       " 'index_version': 3,\n",
       " 'index_parent_version': 2,\n",
       " 'doc_count': 24}"
      ]
     },
     "execution_count": 26,
     "metadata": {},
     "output_type": "execute_result"
    }
   ],
   "source": [
    "# cкачиваем нашу статью с хабр\n",
    "url = \"https://habr.com/ru/companies/yandex/articles/908972/\"\n",
    "html_content = get_html_content(url)\n",
    "markdown_page = markdownify.markdownify(html_content, heading_style=\"ATX\")\n",
    "\n",
    "new_documents_3 = [\n",
    "    {\n",
    "        \"doc_id\": \"doc_3\",\n",
    "        \"title\": \"Статья\",\n",
    "        \"text\": markdown_page,\n",
    "        \"meta\": {\n",
    "                \"title\": \"Статья на хабре\",\n",
    "                \"source_id\": url,\n",
    "                \"category\": \"article\"\n",
    "                }\n",
    "        }\n",
    "    ]\n",
    "\n",
    "#добавляем в новый индекс\n",
    "client.create_or_update_index(\n",
    "        index_name=INDEX_NAME,\n",
    "        documents=new_documents_3,\n",
    "        meta={\"description\": \"Инструкция Нейросаппорта и Облака и Хабр-статья\"},\n",
    "        auto_switch=True,\n",
    "        diff=True\n",
    ")\n",
    "\n",
    "res = client.get_index_info(index_name=INDEX_NAME)\n",
    "nrsprt.mask_response_fields(res['body'], values_to_mask=[PREFIX_INDEX])"
   ]
  },
  {
   "cell_type": "markdown",
   "id": "85db3fb7",
   "metadata": {},
   "source": [
    "Задаим специфический вопрос к новому контенту"
   ]
  },
  {
   "cell_type": "code",
   "execution_count": 27,
   "id": "231c2063",
   "metadata": {},
   "outputs": [
    {
     "name": "stdout",
     "output_type": "stream",
     "text": [
      "Для стадии DPO мы не собирали разметку редакторами, а использовали синтетический DPO, в котором выбор позитивного и негативного ответа происходит без участия человека. Мы пришли к следующей схеме сбора данных для DPO:\n",
      "\n",
      "* берём тот же набор инстрактов, что и для SFT-стадии;\n",
      "* генерируем ответы-кандидаты набором лучших моделей;\n",
      "* позитивный и негативный ответ отбираем по ансамблю ревордов: базовые реворд-модели YandexGPT, набор специализированных для Yandex Neurosupport ревордов, обученных на разных подмножествах данных;\n",
      "* дополнительно на позитивный ответ добавляем ограничение по подтверждённости с golden-ответом из SFT.\n",
      "\n",
      " \n"
     ]
    }
   ],
   "source": [
    "# Пример диалога\n",
    "sample_dialog_3 = [\n",
    "    {\n",
    "        \"role\": \"operator\",\n",
    "        \"text\": \"Добрый день, чем я могу помочь?\"\n",
    "    },\n",
    "    {\n",
    "        \"role\": \"client\",\n",
    "        \"text\": \"Как собирать данные для DPO?\"\n",
    "    }\n",
    "]\n",
    "\n",
    "# Получаем ответ\n",
    "answers = client.get_generative_answer(index_name=INDEX_NAME, dialog=sample_dialog_3)\n",
    "print(answers['body']['answers'][0]['answer'])"
   ]
  },
  {
   "cell_type": "code",
   "execution_count": 28,
   "id": "4b767f00",
   "metadata": {},
   "outputs": [
    {
     "data": {
      "text/plain": [
       "{'index_name': '******neurosupport_index',\n",
       " 'index_version': '4',\n",
       " 'index_parent_version': '3'}"
      ]
     },
     "execution_count": 28,
     "metadata": {},
     "output_type": "execute_result"
    }
   ],
   "source": [
    "# наш загружаемый документ разбился на 6 чанков (можете самостоятельно убедиться)\n",
    "# удалим последнюю статью, передав список документов на удаление\n",
    "res = client.delete_documents_from_index(\n",
    "    index_name=INDEX_NAME,\n",
    "    docs_ids=['doc_3_0', 'doc_3_1', 'doc_3_2', 'doc_3_3', 'doc_3_4', 'doc_3_5', 'doc_3_6', 'doc_3_7']\n",
    ")\n",
    "nrsprt.mask_response_fields(res['body'], values_to_mask=[PREFIX_INDEX])"
   ]
  },
  {
   "cell_type": "code",
   "execution_count": 29,
   "id": "c43cf0fa",
   "metadata": {},
   "outputs": [
    {
     "data": {
      "text/plain": [
       "{'index_name': '******neurosupport_index',\n",
       " 'index_version': 4,\n",
       " 'index_parent_version': 3,\n",
       " 'doc_count': 16}"
      ]
     },
     "execution_count": 29,
     "metadata": {},
     "output_type": "execute_result"
    }
   ],
   "source": [
    "res = client.get_index_info(index_name=INDEX_NAME)\n",
    "nrsprt.mask_response_fields(res['body'], values_to_mask=[PREFIX_INDEX])"
   ]
  },
  {
   "cell_type": "markdown",
   "id": "28aad50f",
   "metadata": {},
   "source": [
    "Зададим тотже вопрос"
   ]
  },
  {
   "cell_type": "code",
   "execution_count": 30,
   "id": "2ca5b006",
   "metadata": {},
   "outputs": [
    {
     "name": "stdout",
     "output_type": "stream",
     "text": [
      "Пожалуйста, уточните запрос — в предоставленных материалах нет информации по вашему вопросу. Возможно, вы имели в виду что-то конкретное, но для более точного ответа требуется дополнительная информация. Если у вас есть другие вопросы или нужна помощь в рамках работы с нашим сервисом, пожалуйста, сформулируйте вопрос иначе или предоставьте больше деталей. \n",
      "\n",
      "Для получения помощи по другим вопросам, пожалуйста, обращайтесь!\n"
     ]
    }
   ],
   "source": [
    "# т.к. необходимые для ответа данные удалились, то не получим ответ на заданный вопрос\n",
    "answers = client.get_generative_answer(index_name=INDEX_NAME, dialog=sample_dialog_3)\n",
    "print(answers['body']['answers'][0]['answer'])"
   ]
  },
  {
   "cell_type": "markdown",
   "id": "b2693d63",
   "metadata": {},
   "source": [
    "Попробуем найти по индексу"
   ]
  },
  {
   "cell_type": "code",
   "execution_count": 31,
   "id": "26601e4a",
   "metadata": {},
   "outputs": [
    {
     "data": {
      "text/plain": [
       "{'body': {'parameters': {'items_total': 0,\n",
       "   'items_returned': 0,\n",
       "   'last_id': None,\n",
       "   'after_id': None,\n",
       "   'limit': 100,\n",
       "   'sort_by': 'document_id',\n",
       "   'sort_order': 'desc'},\n",
       "  'items': []},\n",
       " 'headers': {'content-length': '149',\n",
       "  'content-type': 'application/json',\n",
       "  'date': 'Wed, 06 Aug 2025 13:49:45 GMT',\n",
       "  'x-request-id': '34f7b5a6-be00-4a3c-8d57-3e5b17fa00df',\n",
       "  'server': 'ycalb'}}"
      ]
     },
     "execution_count": 31,
     "metadata": {},
     "output_type": "execute_result"
    }
   ],
   "source": [
    "#пустой результат 'items': []\n",
    "client.get_documents_from_index(index_name=INDEX_NAME, document_id=\"doc_3_0\", sort_order=\"desc\")\n"
   ]
  },
  {
   "cell_type": "code",
   "execution_count": null,
   "id": "145ce383",
   "metadata": {},
   "outputs": [],
   "source": []
  },
  {
   "cell_type": "markdown",
   "id": "ff70643a",
   "metadata": {},
   "source": [
    "<a id=\"delete-all\"></a>\n",
    "## Удаление индекса. Внимание!!! Удаляется весь индекс полностью со всеми версиями."
   ]
  },
  {
   "cell_type": "markdown",
   "id": "bbb5e73c",
   "metadata": {},
   "source": [
    "Посмотрим на все доступные индексы"
   ]
  },
  {
   "cell_type": "code",
   "execution_count": 32,
   "id": "c0c06ce8",
   "metadata": {},
   "outputs": [
    {
     "data": {
      "text/plain": [
       "{'indexes': [{'index_id': 45,\n",
       "   'name': '******neurosupport_index',\n",
       "   'current_version': 4,\n",
       "   'doc_count': 16}],\n",
       " 'indexes_count': 31,\n",
       " 'pages_count': 1}"
      ]
     },
     "execution_count": 32,
     "metadata": {},
     "output_type": "execute_result"
    }
   ],
   "source": [
    "res = client.get_indexes_full()\n",
    "nrsprt.mask_response_fields(res['body'], values_to_mask=[PREFIX_INDEX])"
   ]
  },
  {
   "cell_type": "markdown",
   "id": "f41b70de",
   "metadata": {},
   "source": [
    "Удалим наш индекс `INDEX_NAME`"
   ]
  },
  {
   "cell_type": "code",
   "execution_count": 33,
   "id": "4847d13b",
   "metadata": {},
   "outputs": [
    {
     "data": {
      "text/plain": [
       "{'body': None,\n",
       " 'headers': {'content-length': '4',\n",
       "  'content-type': 'application/json',\n",
       "  'date': 'Wed, 06 Aug 2025 13:49:51 GMT',\n",
       "  'x-request-id': '9980be8e-903a-4162-88f0-eb740e67ce8b',\n",
       "  'server': 'ycalb'}}"
      ]
     },
     "execution_count": 33,
     "metadata": {},
     "output_type": "execute_result"
    }
   ],
   "source": [
    "client.delete_index(index_name=INDEX_NAME)"
   ]
  },
  {
   "cell_type": "markdown",
   "id": "0aade4aa",
   "metadata": {},
   "source": [
    "Снова смотрим на все доступные индексы"
   ]
  },
  {
   "cell_type": "code",
   "execution_count": 34,
   "id": "38626a3e",
   "metadata": {},
   "outputs": [
    {
     "data": {
      "text/plain": [
       "{'indexes': [], 'indexes_count': 31, 'pages_count': 1}"
      ]
     },
     "execution_count": 34,
     "metadata": {},
     "output_type": "execute_result"
    }
   ],
   "source": [
    "res = client.get_indexes_full()\n",
    "nrsprt.mask_response_fields(res['body'], values_to_mask=[PREFIX_INDEX])"
   ]
  },
  {
   "cell_type": "code",
   "execution_count": null,
   "id": "d5ba1787",
   "metadata": {},
   "outputs": [],
   "source": []
  }
 ],
 "metadata": {
  "kernelspec": {
   "display_name": "my-venv",
   "language": "python",
   "name": "python3"
  },
  "language_info": {
   "codemirror_mode": {
    "name": "ipython",
    "version": 3
   },
   "file_extension": ".py",
   "mimetype": "text/x-python",
   "name": "python",
   "nbconvert_exporter": "python",
   "pygments_lexer": "ipython3",
   "version": "3.12.2"
  }
 },
 "nbformat": 4,
 "nbformat_minor": 5
}
